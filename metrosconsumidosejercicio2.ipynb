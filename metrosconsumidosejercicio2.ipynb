{
  "nbformat": 4,
  "nbformat_minor": 0,
  "metadata": {
    "colab": {
      "name": "metrosconsumidosejercicio2.ipynb",
      "provenance": [],
      "authorship_tag": "ABX9TyOgNxfmHqCtkaUQoDpeskMC",
      "include_colab_link": true
    },
    "kernelspec": {
      "name": "python3",
      "display_name": "Python 3"
    },
    "language_info": {
      "name": "python"
    }
  },
  "cells": [
    {
      "cell_type": "markdown",
      "metadata": {
        "id": "view-in-github",
        "colab_type": "text"
      },
      "source": [
        "<a href=\"https://colab.research.google.com/github/katterincampos/Tareasprogramacion3/blob/main/metrosconsumidosejercicio2.ipynb\" target=\"_parent\"><img src=\"https://colab.research.google.com/assets/colab-badge.svg\" alt=\"Open In Colab\"/></a>"
      ]
    },
    {
      "cell_type": "markdown",
      "source": [
        "1) Calcular sobre el sueldo las deducciones por ley ISSS (3%), AFP( 6.25%), ISR(Según tabla) e imprima el total deducciones \n",
        "y sueldo neto. (20%)"
      ],
      "metadata": {
        "id": "lciWTF36_YGG"
      }
    },
    {
      "cell_type": "code",
      "source": [
        "#Calcular las deducciones\n",
        "sueldo= float(input(\"Escriba su sueldo:\"))\n",
        "deducciones= [3,6,25,27]\n",
        "\n",
        "ISSS=(sueldo*deducciones[0])/100\n",
        "AFP=(sueldo*deducciones[1])/100\n",
        "ISR=(sueldo*deducciones[2])/100\n",
        "totaldescuentos= ISSS+AFP+ISR\n",
        "Total=sueldo-totaldescuentos\n",
        "print(\"**Deducciones**\")\n",
        "print(\"ISSS:\",ISSS)\n",
        "print(\"AFP:\",AFP)\n",
        "print(\"ISR:\",ISR)\n",
        "print(\"**sueldo total**\")\n",
        "print(\"Sueldo Neto:\", Total)"
      ],
      "metadata": {
        "id": "maRadkqz_WxG",
        "outputId": "2de9c7b3-16bc-41bb-dc36-9eb2017155f7",
        "colab": {
          "base_uri": "https://localhost:8080/"
        }
      },
      "execution_count": null,
      "outputs": [
        {
          "output_type": "stream",
          "name": "stdout",
          "text": [
            "Escriba su sueldo:500\n",
            "**Deducciones**\n",
            "ISSS: 15.0\n",
            "AFP: 30.0\n",
            "ISR: 125.0\n",
            "**sueldo total**\n",
            "Sueldo Neto: 330.0\n"
          ]
        }
      ]
    },
    {
      "cell_type": "markdown",
      "source": [
        "2) Calcular el valor a pagar según el número de metros consumidos de agua potable (Ver tabla en la siguiente diapositiva). \n",
        "(20%)"
      ],
      "metadata": {
        "id": "RHd3JECp_gjw"
      }
    },
    {
      "cell_type": "code",
      "execution_count": 1,
      "metadata": {
        "id": "C1Ufm5v63rz_",
        "outputId": "2307a19e-53a9-4202-aa67-066363c00a95",
        "colab": {
          "base_uri": "https://localhost:8080/"
        }
      },
      "outputs": [
        {
          "output_type": "stream",
          "name": "stdout",
          "text": [
            "ingrese la cantidad de metros consumidos:30\n",
            "El valor a pagar los metros consumidos es de: 11.8\n",
            "None\n"
          ]
        }
      ],
      "source": [
        "metros_consumidos= int( input(\"ingrese la cantidad de metros consumidos:\"))\n",
        "def mc(a):\n",
        "  if a<=18: \n",
        "    print(\"El valor a pagar segun los metros consumidos es de: $6.00\")\n",
        "  elif a<=28:\n",
        "    excesom= float(a-18) \n",
        "    m= excesom*0.45\n",
        "    total=m+6.00\n",
        "    print(\"El valor a pagar segun los metros consumidos es de: \", total)\n",
        "  else:\n",
        "    exce= float(a-28)\n",
        "    c= exce*0.65\n",
        "    total1=c+10.5\n",
        "    print(\"El valor a pagar los metros consumidos es de:\", total1)\n",
        "\n",
        "print(mc(metros_consumidos))"
      ]
    },
    {
      "cell_type": "markdown",
      "source": [
        "4) Conversores: (40%) (10 ítems como mínimo por cada uno)"
      ],
      "metadata": {
        "id": "K2oFY0EX_nmz"
      }
    },
    {
      "cell_type": "markdown",
      "source": [
        "Conversor de Monedas"
      ],
      "metadata": {
        "id": "PQ4R-mXL_rBz"
      }
    },
    {
      "cell_type": "code",
      "source": [
        "menu = [\"Seleccione una divisa\", \"Dolares\", \n",
        "           \"Quetzalez\", \"Lempiras\", \"Cordobas\", \n",
        "           \"Pesos CR\", \"Euros\", \"Colon SV\", \n",
        "           \"Yenes\", \"Soles Peruanos\",\"Dolar Canadiense\"\n",
        "]\n",
        "valores = [0,1, 7.71, 24.51, 35.77, 664.64, 0.98, 8.75, 134.13, 3.84,1.30]\n",
        "def convertir(de, a, cantidad):\n",
        "  return valores [a] / valores [de] * cantidad\n",
        "\n",
        "print(\"*** MENU ***\")\n",
        "print(\"SELECCIONE UNA OPCION\")\n",
        "print(\"1. Dolares\")\n",
        "print(\"2. Quetzalez\")\n",
        "print(\"3. Lempiras\")\n",
        "print(\"4. Cordobas\")\n",
        "print(\"5. Pesos CR\")\n",
        "print(\"6. Euros\")\n",
        "print(\"7. Colon SV\")\n",
        "print(\"8. Yenes\")\n",
        "print(\"9. Soles Peruanos\")\n",
        "print(\"10. Dolar Canadiense10\")\n",
        "\n",
        "de = int(input(\"DE: \"))\n",
        "a = int(input(\"A: \"))\n",
        "cantidad = float(input(\"Cantidad: \"))\n",
        "\n",
        "print( menu[de],  \" a \", menu[a], \" La conversion es: \", convertir(de, a, cantidad) )\n",
        "\n",
        "  "
      ],
      "metadata": {
        "id": "Vkjc5U-0_tW1",
        "outputId": "dd9df95f-14b2-4e6c-b1d1-6282ab5c66f2",
        "colab": {
          "base_uri": "https://localhost:8080/"
        }
      },
      "execution_count": null,
      "outputs": [
        {
          "output_type": "stream",
          "name": "stdout",
          "text": [
            "*** MENU ***\n",
            "SELECCIONE UNA OPCION\n",
            "1. Dolares\n",
            "2. Quetzalez\n",
            "3. Lempiras\n",
            "4. Cordobas\n",
            "5. Pesos CR\n",
            "6. Euros\n",
            "7. Colon SV\n",
            "8. Yenes\n",
            "9. Soles Peruanos\n",
            "10. Dolar Canadiense10\n",
            "DE: 1\n",
            "A: 2\n",
            "Cantidad: 1\n",
            "Dolares  a  Quetzalez  La conversion es:  7.71\n"
          ]
        }
      ]
    },
    {
      "cell_type": "markdown",
      "source": [
        "Conversor de Longitud"
      ],
      "metadata": {
        "id": "__R01c5r_85u"
      }
    },
    {
      "cell_type": "code",
      "source": [
        "menu = [\"Seleccione una divisa\", \"metro\", \n",
        "           \"kilometro\", \"centimetros\", \"milimetro\", \n",
        "           \"yarda\", \"pie\", \"pulgadas\", \n",
        "           \"milla\", \"Milla nautica\", 'nanometro',\n",
        "]\n",
        "valores = [0,1, 0.001, 100, 1000, 1.09361, 3.28084, 39.3701, 0.000621371,0.000539957,1e+9 ]\n",
        "def convertir(de, a, cantidad):\n",
        "  return valores [de] / valores [a] * cantidad\n",
        "  print(\"*** MENU ***\")\n",
        "print(\"SELECCIONE UNA OPCION\")\n",
        "print(\"1. metro\")\n",
        "print(\"2. Kilometro\")\n",
        "print(\"3. centimetros\")\n",
        "print(\"4. Milimetro\")\n",
        "print(\"5. Yarda\")\n",
        "print(\"6. Pie\")\n",
        "print(\"7. pulgada\")\n",
        "print(\"8. Milla\")\n",
        "print(\"9. Milla nautica\")\n",
        "print(\"10. Nanometro\")\n",
        "\n",
        "a = int(input(\"DE: \"))\n",
        "de = int(input(\"A: \"))\n",
        "cantidad = float(input(\"Cantidad: \"))\n",
        "\n",
        "print( menu[a],  \" a \", menu[de], \" La conversion es: \", convertir(de, a, cantidad) )"
      ],
      "metadata": {
        "id": "7-MSKJzDABEv",
        "outputId": "ef6682d2-d4f8-46ff-e8d0-d4d6659e37ff",
        "colab": {
          "base_uri": "https://localhost:8080/"
        }
      },
      "execution_count": null,
      "outputs": [
        {
          "output_type": "stream",
          "name": "stdout",
          "text": [
            "SELECCIONE UNA OPCION\n",
            "1. metro\n",
            "2. Kilometro\n",
            "3. centimetros\n",
            "4. Milimetro\n",
            "5. Yarda\n",
            "6. Pie\n",
            "7. pulgada\n",
            "8. Milla\n",
            "9. Milla nautica\n",
            "10. Nanometro\n",
            "DE: 1\n",
            "A: 2\n",
            "Cantidad: 10\n",
            "metro  a  kilometro  La conversion es:  0.01\n"
          ]
        }
      ]
    },
    {
      "cell_type": "markdown",
      "source": [
        "Convertidor de Masa"
      ],
      "metadata": {
        "id": "LInLI1-GAJil"
      }
    },
    {
      "cell_type": "code",
      "source": [
        "menu = [\"Seleccione una divisa\", \"Tonelada\", \n",
        "           \"Kilogramo\", \"Gramo\", \"Miligramo\", \n",
        "           \"Microgramo\", \"Tonelada larga\", \"Tonela corta\", \n",
        "           \"Stone\", \"Libra\", 'Onza',\n",
        "\n",
        "]\n",
        "valores = [0,1, 1000, 1e+6, 1e+9, 1e+12, 0.984207, 1.10231, 157.473, 2204.62, 35274 ]\n",
        "def convertir(de, a, cantidad):\n",
        "  return valores [de] / valores [a] * cantidad\n",
        "  print(\"*** MENU ***\")\n",
        "print(\"SELECCIONE UNA OPCION\")\n",
        "print(\"1. Tonelada\")\n",
        "print(\"2. Kilogramo\")\n",
        "print(\"3. Gramo\")\n",
        "print(\"4. Miligramo\")\n",
        "print(\"5. Micrograma\")\n",
        "print(\"6. Tonelada larga\")\n",
        "print(\"7. Tonelada corta\")\n",
        "print(\"8. Stone\")\n",
        "print(\"9. Libra\")\n",
        "print(\"10. Onza\")\n",
        "a = int(input(\"DE: \"))\n",
        "de = int(input(\"A: \"))\n",
        "cantidad = float(input(\"Cantidad: \"))\n",
        "print( menu[a],  \" a \", menu[de], \"La conversion es: \", convertir(de, a, cantidad) )"
      ],
      "metadata": {
        "id": "fHiqnw6rALQt",
        "outputId": "976111f9-f7c4-48ae-eb71-0cdb5c2dd095",
        "colab": {
          "base_uri": "https://localhost:8080/"
        }
      },
      "execution_count": null,
      "outputs": [
        {
          "output_type": "stream",
          "name": "stdout",
          "text": [
            "SELECCIONE UNA OPCION\n",
            "1. Tonelada\n",
            "2. Kilogramo\n",
            "3. Gramo\n",
            "4. Miligramo\n",
            "5. Micrograma\n",
            "6. Tonelada larga\n",
            "7. Tonelada corta\n",
            "8. Stone\n",
            "9. Libra\n",
            "10. Onza\n",
            "DE: 1\n",
            "A: 2\n",
            "Cantidad: 10\n",
            "Tonelada  a  Kilogramo La conversion es:  10000.0\n"
          ]
        }
      ]
    },
    {
      "cell_type": "markdown",
      "source": [
        "Conversor de Almacenamiento"
      ],
      "metadata": {
        "id": "ePoPv2PAAWVE"
      }
    },
    {
      "cell_type": "code",
      "source": [
        "menu = [\"Seleccione una divisa\", \" Terabit\", \n",
        "           \"Mebibit\", \"Gibibit\", \"Gigabit\", \n",
        "           \"tebibit\", \"Petabyte\", \"Mebibyte\", \n",
        "           \"Megabyte\", \"Gigabyte\", 'Terabyte',\n",
        "]\n",
        "valores = [0,1, 953700, 931.3, 1000, 1.1, 8000, 119200, 125000,125,0.125 ]\n",
        "def convertir(de, a, cantidad):\n",
        "  return valores [de] / valores [a] * cantidad\n",
        "  print(\"*** MENU ***\")\n",
        "print(\"SELECCIONE UNA OPCION\")\n",
        "print(\"1. Terabit\")\n",
        "print(\"2. Mebibit\")\n",
        "print(\"3. Gibibit\")\n",
        "print(\"4. Gigabit\")\n",
        "print(\"5. Tebibit\")\n",
        "print(\"6. Petabyte\")\n",
        "print(\"7. Mebibyte\")\n",
        "print(\"8. Megabyte\")\n",
        "print(\"9. Gygabyte\")\n",
        "print(\"10.Terabyte\")\n",
        "a = int(input(\"DE: \"))\n",
        "de = int(input(\"A: \"))\n",
        "cantidad = float(input(\"Cantidad: \"))\n",
        "\n",
        "print( menu[a],  \" a \", menu[de], \"La conversion es: \", convertir(de, a, cantidad) )"
      ],
      "metadata": {
        "id": "peAZxbt9AZBw",
        "outputId": "d29712c6-59a6-4b0b-c9e5-dbfc6ccf67d6",
        "colab": {
          "base_uri": "https://localhost:8080/"
        }
      },
      "execution_count": null,
      "outputs": [
        {
          "output_type": "stream",
          "name": "stdout",
          "text": [
            "SELECCIONE UNA OPCION\n",
            "1. Terabit\n",
            "2. Mebibit\n",
            "3. Gibibit\n",
            "4. Gigabit\n",
            "5. Tebibit\n",
            "6. Petabyte\n",
            "7. Mebibyte\n",
            "8. Megabyte\n",
            "9. Gygabyte\n",
            "10.Terabyte\n",
            "DE: 1\n",
            "A: 2\n",
            "Cantidad: 10\n",
            " Terabit  a  Mebibit La conversion es:  9537000.0\n"
          ]
        }
      ]
    },
    {
      "cell_type": "markdown",
      "source": [
        "Conversor de Tiempo"
      ],
      "metadata": {
        "id": "Qr7naaIdAec8"
      }
    },
    {
      "cell_type": "code",
      "source": [
        "menu= [\"Seleccione una divisa\", \" Segundo\", \n",
        "           \"Milisegundo\", \"Minuto\", \"Hora\", \n",
        "           \"Dia\", \"Semana\", \"Mes\", \n",
        "           \"Año\", \"Decada\", 'Siglo',\n",
        "]\n",
        "valores = [0,1, 1000, 0.0166667, 0.000277778,1.1574e-5, 1.6534e-6, 3.8052e-7, 3.171e-8,3.171e-9,3.171e-10 ]\n",
        "def convertir(de, a, cantidad):\n",
        "  return valores [de] / valores [a] * cantidad\n",
        "  print(\"*** MENU ***\")\n",
        "print(\"SELECCIONE UNA OPCION\")\n",
        "print(\"1. Segundo\")\n",
        "print(\"2. Milesegundo\")\n",
        "print(\"3. Minuto\")\n",
        "print(\"4. Hora\")\n",
        "print(\"5. Dia\")\n",
        "print(\"6. Semana\")\n",
        "print(\"7. Mes\")\n",
        "print(\"8. Año\")\n",
        "print(\"9. Decada\")\n",
        "print(\"10.Siglo\")\n",
        "\n",
        "a = int(input(\"DE: \"))\n",
        "de = int(input(\"A: \"))\n",
        "cantidad = float(input(\"Cantidad: \"))\n",
        "\n",
        "print( menu[a],  \" a \",menu[de], \"La conversion es: \", convertir(de, a, cantidad) )"
      ],
      "metadata": {
        "id": "McF3mpgyAk5V",
        "outputId": "8ed2266f-6b74-4487-8d97-5895166c83db",
        "colab": {
          "base_uri": "https://localhost:8080/"
        }
      },
      "execution_count": null,
      "outputs": [
        {
          "output_type": "stream",
          "name": "stdout",
          "text": [
            "SELECCIONE UNA OPCION\n",
            "1. Segundo\n",
            "2. Milesegundo\n",
            "3. Minuto\n",
            "4. Hora\n",
            "5. Dia\n",
            "6. Semana\n",
            "7. Mes\n",
            "8. Año\n",
            "9. Decada\n",
            "10.Siglo\n",
            "DE: 1\n",
            "A: 2\n",
            "Cantidad: 1\n",
            " Segundo  a  Milisegundo La conversion es:  1000.0\n"
          ]
        }
      ]
    },
    {
      "cell_type": "markdown",
      "source": [
        "Conversor de Volumen"
      ],
      "metadata": {
        "id": "_ZR1RZ2GAtHf"
      }
    },
    {
      "cell_type": "code",
      "source": [
        "menu = [\"Seleccione una divisa\", \"Litro\", \n",
        "           \"Mililitro\", \"Galón\", \"Cuarto\", \n",
        "           \"Pinta\", \"Taza\", \"Onza líquida\", \n",
        "           \"Cucharada\", \"Cucharadita\", 'Pie cúbico',\n",
        "]\n",
        "valores = [0,1, 1000, 0.219969, 0.879877, 1.75975, 3.51951, 35.1951, 56.3121, 168.936, 0.0353147 ]\n",
        "def convertir(de, a, cantidad):\n",
        "  return valores [de] / valores [a] * cantidad\n",
        "  print(\"*** MENU ***\")\n",
        "print(\"SELECCIONE UNA OPCION\")\n",
        "print(\"1. Litro\")\n",
        "print(\"2. Mililitro\")\n",
        "print(\"3. Galón\")\n",
        "print(\"4. Cuarto\")\n",
        "print(\"5. Pinta\")\n",
        "print(\"6. Taza\")\n",
        "print(\"7. Onza liquida\")\n",
        "print(\"8. Cucharada\")\n",
        "print(\"9. Cucharadita\")\n",
        "print(\"10. Pie cúbico\")\n",
        "a = int(input(\"DE: \"))\n",
        "de = int(input(\"A: \"))\n",
        "cantidad = float(input(\"Cantidad: \"))\n",
        "print( menu[a],  \" a \", menu[de], \"La conversion es: \", convertir(de, a, cantidad) )"
      ],
      "metadata": {
        "id": "OZPLiEIlAuOg",
        "outputId": "e47bbe07-0269-42e0-a6cc-d7343bff7593",
        "colab": {
          "base_uri": "https://localhost:8080/"
        }
      },
      "execution_count": null,
      "outputs": [
        {
          "output_type": "stream",
          "name": "stdout",
          "text": [
            "SELECCIONE UNA OPCION\n",
            "1. Litro\n",
            "2. Mililitro\n",
            "3. Galón\n",
            "4. Cuarto\n",
            "5. Pinta\n",
            "6. Taza\n",
            "7. Onza liquida\n",
            "8. Cucharada\n",
            "9. Cucharadita\n",
            "10. Pie cúbico\n",
            "DE: 1\n",
            "A: 2\n",
            "Cantidad: 10\n",
            "Litro  a  Mililitro La conversion es:  10000.0\n"
          ]
        }
      ]
    },
    {
      "cell_type": "markdown",
      "source": [
        "Convertidor de Area"
      ],
      "metadata": {
        "id": "JRHPpFtwA2nS"
      }
    },
    {
      "cell_type": "code",
      "source": [
        "menu = [\"Seleccione una divisa\", \"Hectarea\", \n",
        "           \"Kilometro cuadrado\", \"Metro Cuadrado\", \"Milla cuadrada\", \n",
        "           \"Yarda cuadrada\", \"Pie cuadrado\", \"Pulgada cuadrada\", \n",
        "           \"Acre\",\"Hectometro Cuadrado\",\"Decametro Cuadrado\",\n",
        "]\n",
        "valores = [0,1, 0.01, 10000, 0.00386102, 11959.9, 107639, 1.55e+7, 2.47105,0.01,0.0001  ]\n",
        "def convertir(de, a, cantidad):\n",
        "  return valores [de] / valores [a] * cantidad\n",
        "  print(\"*** MENU ***\")\n",
        "print(\"SELECCIONE UNA OPCION\")\n",
        "print(\"1. Hectarea\")\n",
        "print(\"2. Kilometro cuadrado\")\n",
        "print(\"3. Metro cuadrado\")\n",
        "print(\"4. Milla cuadrada\")\n",
        "print(\"5. Yarda cuadrada\")\n",
        "print(\"6. Pie cuadrado\")\n",
        "print(\"7. Pulgada cuadrada\")\n",
        "print(\"8. Acre\")\n",
        "print(\"9. Hectometro Cuadrado\")\n",
        "print(\"10. Decametro Cuadrado\")\n",
        "\n",
        "a = int(input(\"DE: \"))\n",
        "de = int(input(\"A: \"))\n",
        "cantidad = float(input(\"Cantidad: \"))\n",
        "print( menu[a],  \" a \", menu[de], \"La conversion es: \", convertir(de, a, cantidad) )"
      ],
      "metadata": {
        "id": "lLgQmInQA3xY",
        "outputId": "e0a6b9c4-11f0-48bb-f8df-b1ac3c5edd11",
        "colab": {
          "base_uri": "https://localhost:8080/"
        }
      },
      "execution_count": null,
      "outputs": [
        {
          "output_type": "stream",
          "name": "stdout",
          "text": [
            "SELECCIONE UNA OPCION\n",
            "1. Hectarea\n",
            "2. Kilometro cuadrado\n",
            "3. Metro cuadrado\n",
            "4. Milla cuadrada\n",
            "5. Yarda cuadrada\n",
            "6. Pie cuadrado\n",
            "7. Pulgada cuadrada\n",
            "8. Acre\n",
            "9. Hectometro Cuadrado\n",
            "10. Decametro Cuadrado\n",
            "DE: 1\n",
            "A: 1\n",
            "Cantidad: 1\n",
            "Hectarea  a  Hectarea La conversion es:  1.0\n"
          ]
        }
      ]
    },
    {
      "cell_type": "markdown",
      "source": [
        "5) Realizar un conversor propio, donde especifique el valor de conversión: (10%)\n",
        "\n",
        "• 1 caja -> 25 unidad. Viceversa 80 unidades – 3/5 -> cajas/unidades\n",
        "\n",
        "• 1 saco -> 50 libras. Viceversa 130 libras – 2/30 -> sacos/libras\n",
        "\n",
        "• 1 fardo -> 5 unidades. Viceversa 28 unidades – 5/3 -> fardos/unidades"
      ],
      "metadata": {
        "id": "NIkevCl7Ru4K"
      }
    },
    {
      "cell_type": "code",
      "source": [
        "#CAJAS A UNIDADES___________________________________________\n",
        "#Conversion de caja a unidades\n",
        "print(\"1 caja equivale a 25 unidades\")\n",
        "print(\"\")\n",
        "caja = float(input(\"Ingrese una cantidad de Cajas: \"))\n",
        "unidades = caja * 25\n",
        "print(caja,\"cajas equivalen a\",unidades,\"Unidades\")\n",
        "\n",
        "#Viseversa\n",
        "u = float(input(\"Ingrese una cantidad de Unidades: \"))\n",
        "c = u / 25\n",
        "print(u,\"Unidades equivalen a\",c,\"Cajas\")"
      ],
      "metadata": {
        "id": "sEtR1I9uRxxF",
        "outputId": "4d290480-4921-46b6-b307-e3a8e898463e",
        "colab": {
          "base_uri": "https://localhost:8080/"
        }
      },
      "execution_count": 2,
      "outputs": [
        {
          "output_type": "stream",
          "name": "stdout",
          "text": [
            "1 caja equivale a 25 unidades\n",
            "\n",
            "Ingrese una cantidad de Cajas: 1\n",
            "1.0 cajas equivalen a 25.0 Unidades\n",
            "Ingrese una cantidad de Unidades: 80\n",
            "80.0 Unidades equivalen a 3.2 Cajas\n"
          ]
        }
      ]
    },
    {
      "cell_type": "code",
      "source": [
        "#SACOS A LIBRAS___________________________________________\n",
        "#Conversion de Sacos a Libras\n",
        "print(\"1 Saco equivale a 50 Libras\")\n",
        "print(\"\")\n",
        "Saco = float(input(\"Ingrese una cantidad de Sacos: \"))\n",
        "Libras = Saco * 50\n",
        "print(Saco,\"Sacos equivalen a\",Libras,\"Libras\")\n",
        "\n",
        "#Viseversa\n",
        "l = float(input(\"Ingrese una cantidad de Libras: \"))\n",
        "s = l / 50\n",
        "print(l,\"Libras equivalen a\",s,\"Sacos\")"
      ],
      "metadata": {
        "id": "VkLpiCYuR33Q",
        "outputId": "9f88996e-06da-473e-8039-2939604d88c0",
        "colab": {
          "base_uri": "https://localhost:8080/"
        }
      },
      "execution_count": 3,
      "outputs": [
        {
          "output_type": "stream",
          "name": "stdout",
          "text": [
            "1 Saco equivale a 50 Libras\n",
            "\n",
            "Ingrese una cantidad de Sacos: 1\n",
            "1.0 Sacos equivalen a 50.0 Libras\n",
            "Ingrese una cantidad de Libras: 130\n",
            "130.0 Libras equivalen a 2.6 Sacos\n"
          ]
        }
      ]
    },
    {
      "cell_type": "code",
      "source": [
        "#FARDOS A UNIDADES___________________________________________\n",
        "#Conversion de Fardos a unidades\n",
        "print(\"1 Fardos equivale a 25 unidades\")\n",
        "print(\"\")\n",
        "Fardos = float(input(\"Ingrese una cantidad de Fardos: \"))\n",
        "unidades = Fardos * 5\n",
        "print(Fardos,\"Fardos equivalen a\",unidades,\"Unidades\")\n",
        "\n",
        "#Viseversa\n",
        "u = float(input(\"Ingrese una cantidad de Unidades: \"))\n",
        "f = u / 5\n",
        "print(u,\"Unidades equivalen a\",f,\"Fardos\")\n"
      ],
      "metadata": {
        "id": "x_G0DMFxR7Jc",
        "outputId": "1e075139-46b2-4a1d-aa27-3aad6b94ee06",
        "colab": {
          "base_uri": "https://localhost:8080/"
        }
      },
      "execution_count": 4,
      "outputs": [
        {
          "output_type": "stream",
          "name": "stdout",
          "text": [
            "1 Fardos equivale a 25 unidades\n",
            "\n",
            "Ingrese una cantidad de Fardos: 1\n",
            "1.0 Fardos equivalen a 5.0 Unidades\n",
            "Ingrese una cantidad de Unidades: 28\n",
            "28.0 Unidades equivalen a 5.6 Fardos\n"
          ]
        }
      ]
    }
  ]
}