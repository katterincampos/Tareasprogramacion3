{
  "nbformat": 4,
  "nbformat_minor": 0,
  "metadata": {
    "colab": {
      "name": "metrosconsumidosejercicio2.ipynb",
      "provenance": [],
      "authorship_tag": "ABX9TyNwKlDg/n8jEXO+YFe5k4jm",
      "include_colab_link": true
    },
    "kernelspec": {
      "name": "python3",
      "display_name": "Python 3"
    },
    "language_info": {
      "name": "python"
    }
  },
  "cells": [
    {
      "cell_type": "markdown",
      "metadata": {
        "id": "view-in-github",
        "colab_type": "text"
      },
      "source": [
        "<a href=\"https://colab.research.google.com/github/katterincampos/Tareasprogramacion3/blob/main/metrosconsumidosejercicio2.ipynb\" target=\"_parent\"><img src=\"https://colab.research.google.com/assets/colab-badge.svg\" alt=\"Open In Colab\"/></a>"
      ]
    },
    {
      "cell_type": "code",
      "execution_count": null,
      "metadata": {
        "id": "C1Ufm5v63rz_",
        "outputId": "ab06d60f-e577-487d-8f6a-0117762a5175",
        "colab": {
          "base_uri": "https://localhost:8080/"
        }
      },
      "outputs": [
        {
          "output_type": "stream",
          "name": "stdout",
          "text": [
            "ingrese la cantidad de metros consumidos:10\n",
            "El valor a pagar segun los metros consumidos es de: $6.00\n",
            "None\n"
          ]
        }
      ],
      "source": [
        "metros_consumidos= int( input(\"ingrese la cantidad de metros consumidos:\"))\n",
        "def mc(a):\n",
        "  if a<=18: \n",
        "    print(\"El valor a pagar segun los metros consumidos es de: $6.00\")\n",
        "  elif a<=28:\n",
        "    excesom= float(a-18) \n",
        "    m= excesom*0.45\n",
        "    total=m+6.00\n",
        "    print(\"El valor a pagar segun los metros consumidos es de: \", total)\n",
        "  else:\n",
        "    exce= float(a-28)\n",
        "    c= exce*0.65\n",
        "    total1=c+10.5\n",
        "    print(\"El valor a pagar los metros consumidos es de:\", total1)\n",
        "\n",
        "print(mc(metros_consumidos))"
      ]
    }
  ]
}